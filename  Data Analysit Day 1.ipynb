{
 "cells": [
  {
   "cell_type": "code",
   "execution_count": 2,
   "id": "46cd0e7c-1935-446d-9cb3-024fbe484a93",
   "metadata": {},
   "outputs": [],
   "source": [
    "# Data anlysis with Python Day 1"
   ]
  },
  {
   "cell_type": "code",
   "execution_count": 3,
   "id": "3842bbb7-56a6-4b77-bf19-b03ba6e5ed7c",
   "metadata": {},
   "outputs": [
    {
     "name": "stdout",
     "output_type": "stream",
     "text": [
      " comment can work with side\n",
      "123\n",
      "12\n",
      "abc\n",
      "<class 'int'>\n",
      "orange <class 'str'>\n",
      "banana <class 'str'>\n",
      "Mango <class 'str'>\n"
     ]
    }
   ],
   "source": [
    "# Data anlysis with Python Day 1\n",
    "print(' comment can work with side') #this is comment (it is single line comment)\n",
    "# python variable is container which stored some value,we donot need to declare data type of variable,\n",
    "# variable is created at the moment first we assign the value to it,python variable is a name iven to a memory location,it is basic storage unit\n",
    "# python var name is start with _ underscore or letter\n",
    "# python vars names are case senstive\n",
    "# it can be alpha numeric a12\n",
    "# it can not start ith number\n",
    "# it cannot be any python keyword\n",
    "a=123;\n",
    "print(a)\n",
    "_a=12;\n",
    "print(_a)\n",
    "a12='abc'\n",
    "print(a12)\n",
    "print(type(a)) # type function is built in function tells us about the  datatype of variable\n",
    "b,c,d=\"orange\",'banana','Mango'#we can declare and intiaize multiple var at a time\n",
    "print(b,type(b))\n",
    "print(c,type(c))\n",
    "print(d,type(c))\n"
   ]
  },
  {
   "cell_type": "code",
   "execution_count": 4,
   "id": "7ad89c01-50b4-4961-aa28-737712574756",
   "metadata": {},
   "outputs": [
    {
     "name": "stdout",
     "output_type": "stream",
     "text": [
      "python\n",
      "is\n",
      "amazing\n",
      "python is amazing\n"
     ]
    }
   ],
   "source": [
    "# python print can work as output variable\n",
    "x='python'\n",
    "y=\"is\"\n",
    "z=\"amazing\"\n",
    "print(x)\n",
    "print(y)\n",
    "print(z)\n",
    "print(x,y,z) #we will get out put of vars in one line by writing like this\n",
    "\n",
    "\n"
   ]
  },
  {
   "cell_type": "code",
   "execution_count": 5,
   "id": "e0cea104-847a-4602-b8dd-7f9a98dc5c7a",
   "metadata": {},
   "outputs": [
    {
     "name": "stdout",
     "output_type": "stream",
     "text": [
      "string Python For Data anylysis <class 'str'>\n",
      "int 1 <class 'int'>\n",
      "float 1.1 <class 'float'>\n",
      "Complex (2+5j) <class 'complex'>\n",
      "List [1, 2, 3, 4, 5, 6] <class 'list'>\n",
      "Tuple (1, 2, 3, 4, 5, 6) <class 'tuple'>\n"
     ]
    }
   ],
   "source": [
    "# Python Data Type\n",
    "# text type: str\n",
    "a1='Python For Data anylysis'\n",
    "print(\"string\",a1,type(a1))\n",
    "# numeric type: int,floa,complex\n",
    "b1=1\n",
    "print('int',b1,type(b1))\n",
    "b2=1.1\n",
    "print('float',b2,type(b2))\n",
    "b3=2+5j\n",
    "print('Complex',b3,type(b3))\n",
    "# sequence type:list,tuple,range\n",
    "# list:\n",
    "c1=[1,2,3,4,5,6]\n",
    "print('List',c1,type(c1))\n",
    "# tuple:\n",
    "c2=(1,2,3,4,5,6)\n",
    "print('Tuple',c2,type(c2))\n",
    "# mapping type:dict\n",
    "# set type:set,frozen set\n",
    "# bolean type:bool\n",
    "# binary types:bytes,byte array,memory view"
   ]
  },
  {
   "cell_type": "code",
   "execution_count": 6,
   "id": "b5cf5b4a-3b21-426e-8941-a81d7bd7aa25",
   "metadata": {},
   "outputs": [
    {
     "name": "stdout",
     "output_type": "stream",
     "text": [
      "Variable   Type       Data/Info\n",
      "-------------------------------\n",
      "a          int        123\n",
      "a1         str        Python For Data anylysis\n",
      "a12        str        abc\n",
      "b          str        orange\n",
      "b1         int        1\n",
      "b2         float      1.1\n",
      "b3         complex    (2+5j)\n",
      "c          str        banana\n",
      "c1         list       n=6\n",
      "c2         tuple      n=6\n",
      "cf1        int        223\n",
      "cf2        int        334\n",
      "d          str        Mango\n",
      "x          str        python\n",
      "y          str        is\n",
      "z          str        amazing\n"
     ]
    }
   ],
   "source": [
    " #by this we can see ho many variable we have created in notebook (their names data type and data)\n",
    "%whos"
   ]
  },
  {
   "cell_type": "code",
   "execution_count": 7,
   "id": "b82d091c-b0b4-4a90-9ad6-368b57347331",
   "metadata": {},
   "outputs": [
    {
     "name": "stdout",
     "output_type": "stream",
     "text": [
      "arthmatic addition operator 3\n",
      "arthmatic subtraction operator 8\n",
      "arthmatic multiplication operator 200\n",
      "arthmatic divison operator 67.5\n",
      "arthmatic floor divison operator 67\n",
      "arthmatic modulus operator 0\n",
      "arthmatic exponent operator 10000\n",
      "1455.6279069767443\n",
      "And logical operator False\n",
      "or logical operator True\n",
      "not logical operator True\n"
     ]
    }
   ],
   "source": [
    "# Opertaors in python:\n",
    "# operators are used in python to perform arthmetic and logic operations on values,and the values called the operand of operators\n",
    "# 1 arthmatic operators:\n",
    "# i addition(+):\n",
    "n,m=1,2\n",
    "print('arthmatic addition operator',n+m)\n",
    "n1,m1=10,2\n",
    "print('arthmatic subtraction operator',n1-m1)\n",
    "n2,m2=100,2\n",
    "print('arthmatic multiplication operator',n2*m2)\n",
    "n3,m3=135,2\n",
    "print('arthmatic divison operator',n3/m3)\n",
    "# floor divison gives the output neares round nmber\n",
    "print('arthmatic floor divison operator',n3//m3)\n",
    "n4,m4=100,2\n",
    "print('arthmatic modulus operator',n2%m2)\n",
    "print('arthmatic exponent operator',n2**2)\n",
    "# how i use equation in python\n",
    "eq=((76+87)*(768/86))\n",
    "print(eq)\n",
    "# Logical operators:\n",
    "# And,or,not\n",
    "# bool data type is true or 1 and false or zer0\n",
    "# And logical operator\n",
    "l1=True\n",
    "l2=False\n",
    "print('And logical operator',l1 and l2)\n",
    "print('or logical operator',l1 or l2)\n",
    "print('not logical operator',not(l2))"
   ]
  },
  {
   "cell_type": "code",
   "execution_count": 63,
   "id": "22d171a6-809d-4f6c-b297-1400117a33bb",
   "metadata": {},
   "outputs": [
    {
     "name": "stdout",
     "output_type": "stream",
     "text": [
      "absolout function : 7.25\n",
      "absolout function can used with complex numbers : 9.219544457292887\n",
      "binary function : 0b111000\n",
      "bytes function : b'\\x00\\x00\\x00\\x00\\x00\\x00\\x00\\x00\\x00\\x00\\x00\\x00\\x00\\x00\\x00\\x00\\x00\\x00\\x00\\x00\\x00\\x00\\x00\\x00\\x00\\x00\\x00\\x00\\x00\\x00\\x00\\x00\\x00\\x00\\x00\\x00\\x00\\x00\\x00\\x00\\x00\\x00\\x00\\x00\\x00\\x00\\x00\\x00\\x00\\x00\\x00\\x00\\x00\\x00\\x00\\x00'\n",
      "char function : c\n",
      "cmplex function : (56+99j)\n",
      "cmplex function 2: (56-7.25j)\n",
      "float function : 99.0\n",
      "integer function : -7\n",
      "string function : 123 <class 'str'>\n",
      "Help on built-in function print in module builtins:\n",
      "\n",
      "print(*args, sep=' ', end='\\n', file=None, flush=False)\n",
      "    Prints the values to a stream, or to sys.stdout by default.\n",
      "    \n",
      "    sep\n",
      "      string inserted between values, default a space.\n",
      "    end\n",
      "      string appended after the last value, default a newline.\n",
      "    file\n",
      "      a file-like object (stream); defaults to the current sys.stdout.\n",
      "    flush\n",
      "      whether to forcibly flush the stream.\n",
      "\n"
     ]
    },
    {
     "name": "stdin",
     "output_type": "stream",
     "text": [
      " aa\n"
     ]
    },
    {
     "name": "stdout",
     "output_type": "stream",
     "text": [
      "input finction aa\n"
     ]
    },
    {
     "name": "stdin",
     "output_type": "stream",
     "text": [
      " 23\n"
     ]
    },
    {
     "name": "stdout",
     "output_type": "stream",
     "text": [
      "input finction2 23\n"
     ]
    }
   ],
   "source": [
    "# Python Functions\n",
    "# we use functions or need of functions for code reuse ability if we want to write similar code 10 times we declare function\n",
    "# and write that code inside the functions and when we need to write that code we only call to that function name\n",
    "# Types of python functions\n",
    "# 1 Built in functions(those functions which are already created in the python when we need we just call them like print(),type())\n",
    "# total 68 built in functions in python\n",
    "# absoloute function which convet value negative to positive\n",
    "# 1 absoloute function which can be used for converting complex value into simplified form\n",
    "bf1=-7.25\n",
    "bf2=6+7j\n",
    "print('absolout function :',abs(bf1))\n",
    "print('absolout function can used with complex numbers :',abs(bf2))\n",
    "# 2 binary function which convert any number into binary form(it only convert integers into binary in the form of string\n",
    "# if you want to convert any other value please use type castining to int then convert into binary)\n",
    "bf3=56\n",
    "print('binary function :',bin(bf3))\n",
    "# bytes function if you want to convert any number into bytes use bytes function\n",
    "# (it only convert integers into bytes\n",
    "# if you want to convert any other value please use type castining to int then convert into bytes)\n",
    "print('bytes function :',bytes(bf3))\n",
    "# chr function we give the uni code of character it gives or returns the character\n",
    "bf4=99\n",
    "print('char function :',chr(bf4))\n",
    "# complex function is used create complex number syntax is like first we write real number than we write imaginary number complex(5,3)\n",
    "print('cmplex function :',complex(bf3,bf4))\n",
    "print('cmplex function 2:',complex(bf3,bf1))\n",
    "# float function is used to convert integer into float number\n",
    "print('float function :',float(bf4))\n",
    "#int function is used to convert any numer into integer number\n",
    "print('integer function :',int(bf1))\n",
    "# string function convert any number into string\n",
    "bf5=str(123)\n",
    "print('string function :',bf5,type(bf5))\n",
    "# help() function is sed to help us if we want to know how an built in function works\n",
    "help(print)\n",
    "# input functions is used to taking inputs from the user,it always takes input as string so if we want to give any int float etc we use type castining \n",
    "bf6=input()\n",
    "print('input finction',bf6)\n",
    "# if we convert one data type into another it is called type casting\n",
    "bf7=int(input())\n",
    "print('input finction2',bf7)\n",
    "\n",
    "# 2 recursive python functions\n",
    "# 3 lamda python functions\n",
    "# 4 user-defined python functions(those functions which are  defined by the user are user defined functions,that performs specfic task)\n"
   ]
  },
  {
   "cell_type": "code",
   "execution_count": 61,
   "id": "b5611ed5-43d2-4e21-8007-5dc71e91aacf",
   "metadata": {},
   "outputs": [
    {
     "name": "stdout",
     "output_type": "stream",
     "text": [
      " Above if statment will execte, it is true\n",
      "above condition does not meet\n"
     ]
    },
    {
     "name": "stdin",
     "output_type": "stream",
     "text": [
      "enter the marks 70\n"
     ]
    },
    {
     "name": "stdout",
     "output_type": "stream",
     "text": [
      "C Grade\n"
     ]
    },
    {
     "name": "stdin",
     "output_type": "stream",
     "text": [
      "enter the result gg\n"
     ]
    },
    {
     "name": "stdout",
     "output_type": "stream",
     "text": [
      "You did not appear in the exam\n",
      "0\n",
      "1\n",
      "2\n",
      "3\n",
      "4\n",
      "5\n",
      "6\n",
      "7\n",
      "8\n",
      "9\n"
     ]
    },
    {
     "name": "stdin",
     "output_type": "stream",
     "text": [
      "enter starting value: 1\n",
      "enter the  number which table you want : 10\n"
     ]
    },
    {
     "name": "stdout",
     "output_type": "stream",
     "text": [
      "10 x1=10\n",
      "10 x2=20\n",
      "10 x3=30\n",
      "10 x4=40\n",
      "10 x5=50\n",
      "10 x6=60\n",
      "10 x7=70\n",
      "10 x8=80\n",
      "10 x9=90\n",
      "10 x10=100\n",
      "10 x11=110\n",
      "now we outside while   loop\n",
      "print for loop 1\n",
      "print for loop 2\n",
      "print for loop 3\n",
      "print for loop 4\n",
      "print for loop 5\n",
      "print for loop 6\n",
      "print for loop 7\n",
      "print for loop 8\n",
      "now we outside for loop\n",
      "b\n",
      "a\n",
      "n\n",
      "a\n",
      "n\n",
      "a\n",
      "0\n",
      "1\n",
      "2\n",
      "3\n",
      "4\n",
      "5\n",
      "6\n",
      "7\n",
      "8\n",
      "9\n"
     ]
    }
   ],
   "source": [
    "# con trol flow statments in python\n",
    "# three types of control flow\n",
    "# 1 conditional statments\n",
    "# i) if (it is most simple decsion making statments,if certain condition is meet than statment will execute)\n",
    "cf1,cf2=223,334\n",
    "if cf1<cf2:\n",
    "    print(\" Above if statment will execte, it is true\")\n",
    "\n",
    "# ii) if else(it is  decsion making statments,\n",
    "# lf certain condition is meet than statment will execute,if condition is not meet than else part will execute)\n",
    "if cf1>cf2:\n",
    "   print(\" Above if statment will execte, it is true\")\n",
    "else:\n",
    "    print(\"above condition does not meet\")\n",
    "# iii) if elif else\n",
    "    Marks=int(input('enter the marks'))\n",
    "    if Marks>=90:\n",
    "        print(\"A grade\")\n",
    "    elif Marks<90 and Marks>=80:\n",
    "        print(\"B grade\")\n",
    "    elif Marks<80 and Marks>=70:\n",
    "        print(\"C Grade\")\n",
    "    elif Marks<70 and Marks>=60:\n",
    "        print(\"D Grade\")\n",
    "    else:\n",
    "        print(\"Yoy try next time\")   \n",
    "# iv) nested if else(when use condition inside the condition)\n",
    "result=input('enter the result')\n",
    "if result=='Pass':\n",
    "    Marks=int(input('enter the marks'))\n",
    "    if Marks>=90:\n",
    "        print(\"A grade\")\n",
    "    elif Marks<90 and Marks>=80:\n",
    "        print(\"B grade\")\n",
    "    elif Marks<80 and Marks>=70:\n",
    "        print(\"C Grade\")\n",
    "    elif Marks<70 and Marks>=60:\n",
    "        print(\"D Grade\")\n",
    "elif result=='Fail':\n",
    "    print(\"Yoy try next time\") \n",
    "else:\n",
    "    print('You did not appear in the exam')\n",
    "# 2 transfer statments\n",
    "# 3 iterative statments\n",
    "# loop :loops are used to repeat the code if you want to repeat the message 100 times you will use loop,\n",
    "# loop allows you to repeat a statments multiple times(loops will execute until the cndition becomes false)\n",
    "# while loop\n",
    "w1,w2=0,10\n",
    "while w1<w2:\n",
    "    print(w1)\n",
    "    w1=w1+1\n",
    "# print the tabel\n",
    "w3=int(input('enter starting value:'))\n",
    "w4=int(input('enter the  number which table you want :'))\n",
    "while w3<=11: \n",
    "    print(f'{w4} x{w3}={w3*w4}')#we use formatted string\n",
    "    w3=w3+1\n",
    "else: \n",
    "    print('now we outside while   loop')\n",
    "# for loop is used for to run block of code for certain number of times\n",
    "# for loop is used to iterate any sequence like string,list,tuple,etc\n",
    "li=[1,2,3,4,5,6,7,8]\n",
    "for i in li:\n",
    "    print('print for loop',i)\n",
    "else: \n",
    "    print('now we outside for loop')\n",
    "# for loop with string\n",
    "fx='banana'\n",
    "for i in fx:\n",
    "    print(i)\n",
    "# for loop with range\n",
    "for i in range(10):\n",
    "    print(i)# it will print from 0 t0 9,range always works with n-1\n",
    "    \n",
    "    \n"
   ]
  },
  {
   "cell_type": "code",
   "execution_count": 66,
   "id": "c4599284-6838-4c86-bfbf-4ca17ec3e3ca",
   "metadata": {},
   "outputs": [
    {
     "name": "stdout",
     "output_type": "stream",
     "text": [
      "Umair\n"
     ]
    },
    {
     "name": "stdin",
     "output_type": "stream",
     "text": [
      "Name Umair\n",
      "Class 10\n"
     ]
    },
    {
     "name": "stdout",
     "output_type": "stream",
     "text": [
      "Green Valley Public High School\n",
      "gvps@gmail.com\n"
     ]
    },
    {
     "name": "stdin",
     "output_type": "stream",
     "text": [
      "Name Amjad\n",
      "Class 10\n"
     ]
    },
    {
     "name": "stdout",
     "output_type": "stream",
     "text": [
      "Green Valley Public High School\n",
      "gvps@gmail.com\n",
      "UmairJadoon\n",
      "AmjadJadoon\n"
     ]
    }
   ],
   "source": [
    "#  user-defined python functions(those functions which are  defined by the user are user defined functions,that performs specfic task)\n",
    "# it decompse large functions into small segments,and once we creates a function we call it when we need it any where in the code ,code reuseability\n",
    "def my_name():#creating a funcation\n",
    "    print('Umair')\n",
    "my_name()#calling a funcation\n",
    "def school_info():\n",
    "    print('Green Valley Public High School')\n",
    "    print('gvps@gmail.com')\n",
    "for i in range(2):\n",
    "    a=input('Name')\n",
    "    b=input('Class')\n",
    "    school_info()\n",
    "# arguments giving to function argments are values which we give to function at the time of creation\n",
    "def arg_func(f_name):\n",
    "    print(f_name+'Jadoon')\n",
    "arg_func('Umair')\n",
    "def arg_func2(f_name,l_name):\n",
    "    print(f_name +\" \"+l_name )\n",
    "arg_func2('Amjad','Jadoon')\n"
   ]
  },
  {
   "cell_type": "code",
   "execution_count": 67,
   "id": "a34d1ed6-f3b9-4da0-97e7-00300f29a848",
   "metadata": {},
   "outputs": [
    {
     "name": "stdout",
     "output_type": "stream",
     "text": [
      "Your Electricty Bill : 2000\n",
      "Your Electricty Bill : 10000\n"
     ]
    }
   ],
   "source": [
    "# write a programme to find electricty bill\n",
    "def calc_elec_bill(c_unit):\n",
    "    if c_unit<=500:\n",
    "        print('Your Electricty Bill :',c_unit*5)\n",
    "    elif c_unit>700 and c_unit <=1000:\n",
    "        print('Your Electricty Bill :',c_unit*10)\n",
    "    elif c_unit>700 and c_unit <=1000:\n",
    "        print('Your Electricty Bill :',c_unit*15)\n",
    "    elif c_unit >1000:\n",
    "        print('Your Electricty Bill :',c_unit*20)\n",
    "calc_elec_bill(400) \n",
    "calc_elec_bill(1000)\n",
    "        \n",
    "    "
   ]
  },
  {
   "cell_type": "code",
   "execution_count": null,
   "id": "50fe955d-81e0-4912-b262-5db835bae917",
   "metadata": {},
   "outputs": [],
   "source": []
  }
 ],
 "metadata": {
  "kernelspec": {
   "display_name": "Python 3 (ipykernel)",
   "language": "python",
   "name": "python3"
  },
  "language_info": {
   "codemirror_mode": {
    "name": "ipython",
    "version": 3
   },
   "file_extension": ".py",
   "mimetype": "text/x-python",
   "name": "python",
   "nbconvert_exporter": "python",
   "pygments_lexer": "ipython3",
   "version": "3.11.7"
  }
 },
 "nbformat": 4,
 "nbformat_minor": 5
}
